{
 "cells": [
  {
   "cell_type": "markdown",
   "id": "80d8fde0",
   "metadata": {},
   "source": [
    "# Implementing Yolo"
   ]
  },
  {
   "cell_type": "code",
   "execution_count": 8,
   "id": "e5d0efbc",
   "metadata": {},
   "outputs": [
    {
     "name": "stdout",
     "output_type": "stream",
     "text": [
      "\n",
      "image 1/1 /Users/manu/Master/Fish_Data/images/raw_images/coris_gaimard_7.jpg: 384x640 (no detections), 36.4ms\n",
      "Speed: 1.0ms preprocess, 36.4ms inference, 0.2ms postprocess per image at shape (1, 3, 384, 640)\n"
     ]
    }
   ],
   "source": [
    "from ultralytics import YOLO\n",
    "\n",
    "# Load a pre-trained YOLOv8 model (small version)\n",
    "model = YOLO(\"yolov8n.pt\")\n",
    "\n",
    "# Run inference on an image\n",
    "results = model(\"/Users/manu/Master/Fish_Data/images/raw_images/coris_gaimard_7.jpg\")  \n",
    "# Show results\n",
    "results[0].show()"
   ]
  }
 ],
 "metadata": {
  "kernelspec": {
   "display_name": "venv",
   "language": "python",
   "name": "python3"
  },
  "language_info": {
   "codemirror_mode": {
    "name": "ipython",
    "version": 3
   },
   "file_extension": ".py",
   "mimetype": "text/x-python",
   "name": "python",
   "nbconvert_exporter": "python",
   "pygments_lexer": "ipython3",
   "version": "3.9.6"
  }
 },
 "nbformat": 4,
 "nbformat_minor": 5
}
